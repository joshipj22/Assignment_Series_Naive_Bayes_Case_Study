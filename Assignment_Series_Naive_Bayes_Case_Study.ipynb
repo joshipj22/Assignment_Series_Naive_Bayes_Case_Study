{
  "nbformat": 4,
  "nbformat_minor": 0,
  "metadata": {
    "colab": {
      "provenance": [],
      "collapsed_sections": [
        "cTW5ZNrc0hsy",
        "mWqrTpO91_LW",
        "mNqoWbeoXCjz"
      ],
      "include_colab_link": true
    },
    "kernelspec": {
      "name": "python3",
      "display_name": "Python 3"
    },
    "language_info": {
      "name": "python"
    }
  },
  "cells": [
    {
      "cell_type": "markdown",
      "metadata": {
        "id": "view-in-github",
        "colab_type": "text"
      },
      "source": [
        "<a href=\"https://colab.research.google.com/github/joshipj22/Assignment_Series_Naive_Bayes_Case_Study/blob/main/Assignment_Series_Naive_Bayes_Case_Study.ipynb\" target=\"_parent\"><img src=\"https://colab.research.google.com/assets/colab-badge.svg\" alt=\"Open In Colab\"/></a>"
      ]
    },
    {
      "cell_type": "markdown",
      "source": [
        "# Predicting Health Outcomes of Horses with Machine Learning\n",
        "\n",
        "### Context\n",
        "\n",
        "Welcome to the **Scaler Health Analytics** team! Our objective is to leverage advanced analytics to predict health outcomes in horses, enabling veterinarians to make more informed decisions that can improve treatment strategies and overall horse health management. Utilizing machine learning techniques, particularly classification algorithms, you will analyze clinical data from horses to predict various health outcomes.\n",
        "\n",
        "### Dataset Description\n",
        "\n",
        "You have been provided with a comprehensive dataset containing clinical records of horses treated in a veterinary hospital. The data encapsulates a variety of clinical attributes that offer insights into the general health and medical condition of each horse. Each record in the dataset is described by the following features:\n",
        "\n",
        "### Clinical Attributes:\n",
        "- **id:** Unique identifier for each horse.\n",
        "- **surgery:** Whether the horse had surgery (Yes/No).\n",
        "- **age:** Age of the horse.\n",
        "- **hospital_number:** Unique number assigned to the horse at the hospital.\n",
        "- **rectal_temp:** Rectal temperature of the horse.\n",
        "- **pulse:** Pulse rate in beats per minute.\n",
        "- **respiratory_rate:** Respiratory rate in breaths per minute.\n",
        "- **temp_of_extremities:** Temperature of extremities (a possible indicator of shock).\n",
        "- **peripheral_pulse:** Quality of the peripheral pulse.\n",
        "- **mucous_membrane:** Color of the mucous membranes, which can indicate blood circulation quality.\n",
        "- **capillary_refill_time:** Time taken for color to return to mucous membrane after pressure is applied.\n",
        "- **pain:** Horse's pain level (graded).\n",
        "- **peristalsis:** Intestinal activity observed.\n",
        "- **abdominal_distention:** Any distention of the abdomen.\n",
        "- **nasogastric_tube:** Whether a nasogastric tube has been placed.\n",
        "- **nasogastric_reflux:** Any nasogastric reflux noted.\n",
        "- **nasogastric_reflux_ph:** pH of the nasogastric reflux.\n",
        "- **rectal_exam_feces:** Findings of the rectal examination of feces.\n",
        "- **abdomen:** Detailed examination findings of the abdomen.\n",
        "- **packed_cell_volume:** Packed cell volume, indicating hydration status and blood loss.\n",
        "- **total_protein:** Total protein levels in blood.\n",
        "- **abdomo_appearance:** Appearance of abdominal fluid.\n",
        "- **abdomo_protein:** Protein level in abdominal fluid.\n",
        "- **surgical_lesion:** Presence of surgical lesions.\n",
        "- **lesion_1, lesion_2, lesion_3:** Type and location of lesions identified.\n",
        "- **cp_data:** Clinical pathology data.\n",
        "- **outcome:** Health outcome of the horse (e.g., recovered, euthanized, died).\n",
        "\n",
        "Your task is to use machine learning models to predict the 'outcome' for each horse and identify key predictors of health outcomes. This project will contribute significantly to improving the predictive models used in veterinary practices."
      ],
      "metadata": {
        "id": "cTW5ZNrc0hsy"
      }
    },
    {
      "cell_type": "code",
      "execution_count": 23,
      "metadata": {
        "id": "gYm6et5Bxufg",
        "colab": {
          "base_uri": "https://localhost:8080/",
          "height": 0
        },
        "outputId": "af456afb-3695-470f-85b1-e4020f3e64c3"
      },
      "outputs": [
        {
          "output_type": "stream",
          "name": "stdout",
          "text": [
            "--2025-07-31 13:17:17--  https://d2beiqkhq929f0.cloudfront.net/public_assets/assets/000/072/101/original/health_outcome_dataset.csv\n",
            "Resolving d2beiqkhq929f0.cloudfront.net (d2beiqkhq929f0.cloudfront.net)... 18.172.139.210, 18.172.139.61, 18.172.139.94, ...\n",
            "Connecting to d2beiqkhq929f0.cloudfront.net (d2beiqkhq929f0.cloudfront.net)|18.172.139.210|:443... connected.\n",
            "HTTP request sent, awaiting response... 200 OK\n",
            "Length: 229201 (224K) [text/plain]\n",
            "Saving to: ‘health_outcome_dataset.csv.3’\n",
            "\n",
            "\r          health_ou   0%[                    ]       0  --.-KB/s               \rhealth_outcome_data 100%[===================>] 223.83K  --.-KB/s    in 0.04s   \n",
            "\n",
            "2025-07-31 13:17:17 (6.03 MB/s) - ‘health_outcome_dataset.csv.3’ saved [229201/229201]\n",
            "\n"
          ]
        }
      ],
      "source": [
        "!wget https://d2beiqkhq929f0.cloudfront.net/public_assets/assets/000/072/101/original/health_outcome_dataset.csv"
      ]
    },
    {
      "cell_type": "code",
      "source": [
        "import warnings\n",
        "\n",
        "# Ignore all warnings\n",
        "warnings.filterwarnings(\"ignore\")"
      ],
      "metadata": {
        "id": "p_QQa2BP24W0"
      },
      "execution_count": 24,
      "outputs": []
    },
    {
      "cell_type": "code",
      "source": [
        "import pandas as pd\n",
        "\n",
        "df = pd.read_csv(\"health_outcome_dataset.csv\")\n",
        "df.head()"
      ],
      "metadata": {
        "id": "0oXxhVW8zoEr",
        "colab": {
          "base_uri": "https://localhost:8080/",
          "height": 255
        },
        "outputId": "c8ce881d-459d-42fc-f565-2fd9e06cbaf2"
      },
      "execution_count": 25,
      "outputs": [
        {
          "output_type": "execute_result",
          "data": {
            "text/plain": [
              "   id surgery    age  hospital_number  rectal_temp  pulse  respiratory_rate  \\\n",
              "0   0     yes  adult           530001         38.1  132.0              24.0   \n",
              "1   1     yes  adult           533836         37.5   88.0              12.0   \n",
              "2   2     yes  adult           529812         38.3  120.0              28.0   \n",
              "3   3     yes  adult          5262541         37.1   72.0              30.0   \n",
              "4   4      no  adult          5299629         38.0   52.0              48.0   \n",
              "\n",
              "  temp_of_extremities peripheral_pulse mucous_membrane  ...  \\\n",
              "0                cool          reduced   dark_cyanotic  ...   \n",
              "1                cool           normal   pale_cyanotic  ...   \n",
              "2                cool          reduced       pale_pink  ...   \n",
              "3                cold          reduced       pale_pink  ...   \n",
              "4              normal           normal     normal_pink  ...   \n",
              "\n",
              "  packed_cell_volume total_protein abdomo_appearance abdomo_protein  \\\n",
              "0               57.0           8.5     serosanguious            3.4   \n",
              "1               33.0          64.0     serosanguious            2.0   \n",
              "2               37.0           6.4     serosanguious            3.4   \n",
              "3               53.0           7.0            cloudy            3.9   \n",
              "4               47.0           7.3            cloudy            2.6   \n",
              "\n",
              "  surgical_lesion lesion_1  lesion_2 lesion_3 cp_data     outcome  \n",
              "0             yes     2209         0        0      no        died  \n",
              "1             yes     2208         0        0      no  euthanized  \n",
              "2             yes     5124         0        0      no       lived  \n",
              "3             yes     2208         0        0     yes       lived  \n",
              "4              no        0         0        0     yes       lived  \n",
              "\n",
              "[5 rows x 29 columns]"
            ],
            "text/html": [
              "\n",
              "  <div id=\"df-7c7dbce2-80cd-4e0a-a622-0c0d19d15735\" class=\"colab-df-container\">\n",
              "    <div>\n",
              "<style scoped>\n",
              "    .dataframe tbody tr th:only-of-type {\n",
              "        vertical-align: middle;\n",
              "    }\n",
              "\n",
              "    .dataframe tbody tr th {\n",
              "        vertical-align: top;\n",
              "    }\n",
              "\n",
              "    .dataframe thead th {\n",
              "        text-align: right;\n",
              "    }\n",
              "</style>\n",
              "<table border=\"1\" class=\"dataframe\">\n",
              "  <thead>\n",
              "    <tr style=\"text-align: right;\">\n",
              "      <th></th>\n",
              "      <th>id</th>\n",
              "      <th>surgery</th>\n",
              "      <th>age</th>\n",
              "      <th>hospital_number</th>\n",
              "      <th>rectal_temp</th>\n",
              "      <th>pulse</th>\n",
              "      <th>respiratory_rate</th>\n",
              "      <th>temp_of_extremities</th>\n",
              "      <th>peripheral_pulse</th>\n",
              "      <th>mucous_membrane</th>\n",
              "      <th>...</th>\n",
              "      <th>packed_cell_volume</th>\n",
              "      <th>total_protein</th>\n",
              "      <th>abdomo_appearance</th>\n",
              "      <th>abdomo_protein</th>\n",
              "      <th>surgical_lesion</th>\n",
              "      <th>lesion_1</th>\n",
              "      <th>lesion_2</th>\n",
              "      <th>lesion_3</th>\n",
              "      <th>cp_data</th>\n",
              "      <th>outcome</th>\n",
              "    </tr>\n",
              "  </thead>\n",
              "  <tbody>\n",
              "    <tr>\n",
              "      <th>0</th>\n",
              "      <td>0</td>\n",
              "      <td>yes</td>\n",
              "      <td>adult</td>\n",
              "      <td>530001</td>\n",
              "      <td>38.1</td>\n",
              "      <td>132.0</td>\n",
              "      <td>24.0</td>\n",
              "      <td>cool</td>\n",
              "      <td>reduced</td>\n",
              "      <td>dark_cyanotic</td>\n",
              "      <td>...</td>\n",
              "      <td>57.0</td>\n",
              "      <td>8.5</td>\n",
              "      <td>serosanguious</td>\n",
              "      <td>3.4</td>\n",
              "      <td>yes</td>\n",
              "      <td>2209</td>\n",
              "      <td>0</td>\n",
              "      <td>0</td>\n",
              "      <td>no</td>\n",
              "      <td>died</td>\n",
              "    </tr>\n",
              "    <tr>\n",
              "      <th>1</th>\n",
              "      <td>1</td>\n",
              "      <td>yes</td>\n",
              "      <td>adult</td>\n",
              "      <td>533836</td>\n",
              "      <td>37.5</td>\n",
              "      <td>88.0</td>\n",
              "      <td>12.0</td>\n",
              "      <td>cool</td>\n",
              "      <td>normal</td>\n",
              "      <td>pale_cyanotic</td>\n",
              "      <td>...</td>\n",
              "      <td>33.0</td>\n",
              "      <td>64.0</td>\n",
              "      <td>serosanguious</td>\n",
              "      <td>2.0</td>\n",
              "      <td>yes</td>\n",
              "      <td>2208</td>\n",
              "      <td>0</td>\n",
              "      <td>0</td>\n",
              "      <td>no</td>\n",
              "      <td>euthanized</td>\n",
              "    </tr>\n",
              "    <tr>\n",
              "      <th>2</th>\n",
              "      <td>2</td>\n",
              "      <td>yes</td>\n",
              "      <td>adult</td>\n",
              "      <td>529812</td>\n",
              "      <td>38.3</td>\n",
              "      <td>120.0</td>\n",
              "      <td>28.0</td>\n",
              "      <td>cool</td>\n",
              "      <td>reduced</td>\n",
              "      <td>pale_pink</td>\n",
              "      <td>...</td>\n",
              "      <td>37.0</td>\n",
              "      <td>6.4</td>\n",
              "      <td>serosanguious</td>\n",
              "      <td>3.4</td>\n",
              "      <td>yes</td>\n",
              "      <td>5124</td>\n",
              "      <td>0</td>\n",
              "      <td>0</td>\n",
              "      <td>no</td>\n",
              "      <td>lived</td>\n",
              "    </tr>\n",
              "    <tr>\n",
              "      <th>3</th>\n",
              "      <td>3</td>\n",
              "      <td>yes</td>\n",
              "      <td>adult</td>\n",
              "      <td>5262541</td>\n",
              "      <td>37.1</td>\n",
              "      <td>72.0</td>\n",
              "      <td>30.0</td>\n",
              "      <td>cold</td>\n",
              "      <td>reduced</td>\n",
              "      <td>pale_pink</td>\n",
              "      <td>...</td>\n",
              "      <td>53.0</td>\n",
              "      <td>7.0</td>\n",
              "      <td>cloudy</td>\n",
              "      <td>3.9</td>\n",
              "      <td>yes</td>\n",
              "      <td>2208</td>\n",
              "      <td>0</td>\n",
              "      <td>0</td>\n",
              "      <td>yes</td>\n",
              "      <td>lived</td>\n",
              "    </tr>\n",
              "    <tr>\n",
              "      <th>4</th>\n",
              "      <td>4</td>\n",
              "      <td>no</td>\n",
              "      <td>adult</td>\n",
              "      <td>5299629</td>\n",
              "      <td>38.0</td>\n",
              "      <td>52.0</td>\n",
              "      <td>48.0</td>\n",
              "      <td>normal</td>\n",
              "      <td>normal</td>\n",
              "      <td>normal_pink</td>\n",
              "      <td>...</td>\n",
              "      <td>47.0</td>\n",
              "      <td>7.3</td>\n",
              "      <td>cloudy</td>\n",
              "      <td>2.6</td>\n",
              "      <td>no</td>\n",
              "      <td>0</td>\n",
              "      <td>0</td>\n",
              "      <td>0</td>\n",
              "      <td>yes</td>\n",
              "      <td>lived</td>\n",
              "    </tr>\n",
              "  </tbody>\n",
              "</table>\n",
              "<p>5 rows × 29 columns</p>\n",
              "</div>\n",
              "    <div class=\"colab-df-buttons\">\n",
              "\n",
              "  <div class=\"colab-df-container\">\n",
              "    <button class=\"colab-df-convert\" onclick=\"convertToInteractive('df-7c7dbce2-80cd-4e0a-a622-0c0d19d15735')\"\n",
              "            title=\"Convert this dataframe to an interactive table.\"\n",
              "            style=\"display:none;\">\n",
              "\n",
              "  <svg xmlns=\"http://www.w3.org/2000/svg\" height=\"24px\" viewBox=\"0 -960 960 960\">\n",
              "    <path d=\"M120-120v-720h720v720H120Zm60-500h600v-160H180v160Zm220 220h160v-160H400v160Zm0 220h160v-160H400v160ZM180-400h160v-160H180v160Zm440 0h160v-160H620v160ZM180-180h160v-160H180v160Zm440 0h160v-160H620v160Z\"/>\n",
              "  </svg>\n",
              "    </button>\n",
              "\n",
              "  <style>\n",
              "    .colab-df-container {\n",
              "      display:flex;\n",
              "      gap: 12px;\n",
              "    }\n",
              "\n",
              "    .colab-df-convert {\n",
              "      background-color: #E8F0FE;\n",
              "      border: none;\n",
              "      border-radius: 50%;\n",
              "      cursor: pointer;\n",
              "      display: none;\n",
              "      fill: #1967D2;\n",
              "      height: 32px;\n",
              "      padding: 0 0 0 0;\n",
              "      width: 32px;\n",
              "    }\n",
              "\n",
              "    .colab-df-convert:hover {\n",
              "      background-color: #E2EBFA;\n",
              "      box-shadow: 0px 1px 2px rgba(60, 64, 67, 0.3), 0px 1px 3px 1px rgba(60, 64, 67, 0.15);\n",
              "      fill: #174EA6;\n",
              "    }\n",
              "\n",
              "    .colab-df-buttons div {\n",
              "      margin-bottom: 4px;\n",
              "    }\n",
              "\n",
              "    [theme=dark] .colab-df-convert {\n",
              "      background-color: #3B4455;\n",
              "      fill: #D2E3FC;\n",
              "    }\n",
              "\n",
              "    [theme=dark] .colab-df-convert:hover {\n",
              "      background-color: #434B5C;\n",
              "      box-shadow: 0px 1px 3px 1px rgba(0, 0, 0, 0.15);\n",
              "      filter: drop-shadow(0px 1px 2px rgba(0, 0, 0, 0.3));\n",
              "      fill: #FFFFFF;\n",
              "    }\n",
              "  </style>\n",
              "\n",
              "    <script>\n",
              "      const buttonEl =\n",
              "        document.querySelector('#df-7c7dbce2-80cd-4e0a-a622-0c0d19d15735 button.colab-df-convert');\n",
              "      buttonEl.style.display =\n",
              "        google.colab.kernel.accessAllowed ? 'block' : 'none';\n",
              "\n",
              "      async function convertToInteractive(key) {\n",
              "        const element = document.querySelector('#df-7c7dbce2-80cd-4e0a-a622-0c0d19d15735');\n",
              "        const dataTable =\n",
              "          await google.colab.kernel.invokeFunction('convertToInteractive',\n",
              "                                                    [key], {});\n",
              "        if (!dataTable) return;\n",
              "\n",
              "        const docLinkHtml = 'Like what you see? Visit the ' +\n",
              "          '<a target=\"_blank\" href=https://colab.research.google.com/notebooks/data_table.ipynb>data table notebook</a>'\n",
              "          + ' to learn more about interactive tables.';\n",
              "        element.innerHTML = '';\n",
              "        dataTable['output_type'] = 'display_data';\n",
              "        await google.colab.output.renderOutput(dataTable, element);\n",
              "        const docLink = document.createElement('div');\n",
              "        docLink.innerHTML = docLinkHtml;\n",
              "        element.appendChild(docLink);\n",
              "      }\n",
              "    </script>\n",
              "  </div>\n",
              "\n",
              "\n",
              "    <div id=\"df-7b3ecef1-933d-4153-b1ce-e167541813e4\">\n",
              "      <button class=\"colab-df-quickchart\" onclick=\"quickchart('df-7b3ecef1-933d-4153-b1ce-e167541813e4')\"\n",
              "                title=\"Suggest charts\"\n",
              "                style=\"display:none;\">\n",
              "\n",
              "<svg xmlns=\"http://www.w3.org/2000/svg\" height=\"24px\"viewBox=\"0 0 24 24\"\n",
              "     width=\"24px\">\n",
              "    <g>\n",
              "        <path d=\"M19 3H5c-1.1 0-2 .9-2 2v14c0 1.1.9 2 2 2h14c1.1 0 2-.9 2-2V5c0-1.1-.9-2-2-2zM9 17H7v-7h2v7zm4 0h-2V7h2v10zm4 0h-2v-4h2v4z\"/>\n",
              "    </g>\n",
              "</svg>\n",
              "      </button>\n",
              "\n",
              "<style>\n",
              "  .colab-df-quickchart {\n",
              "      --bg-color: #E8F0FE;\n",
              "      --fill-color: #1967D2;\n",
              "      --hover-bg-color: #E2EBFA;\n",
              "      --hover-fill-color: #174EA6;\n",
              "      --disabled-fill-color: #AAA;\n",
              "      --disabled-bg-color: #DDD;\n",
              "  }\n",
              "\n",
              "  [theme=dark] .colab-df-quickchart {\n",
              "      --bg-color: #3B4455;\n",
              "      --fill-color: #D2E3FC;\n",
              "      --hover-bg-color: #434B5C;\n",
              "      --hover-fill-color: #FFFFFF;\n",
              "      --disabled-bg-color: #3B4455;\n",
              "      --disabled-fill-color: #666;\n",
              "  }\n",
              "\n",
              "  .colab-df-quickchart {\n",
              "    background-color: var(--bg-color);\n",
              "    border: none;\n",
              "    border-radius: 50%;\n",
              "    cursor: pointer;\n",
              "    display: none;\n",
              "    fill: var(--fill-color);\n",
              "    height: 32px;\n",
              "    padding: 0;\n",
              "    width: 32px;\n",
              "  }\n",
              "\n",
              "  .colab-df-quickchart:hover {\n",
              "    background-color: var(--hover-bg-color);\n",
              "    box-shadow: 0 1px 2px rgba(60, 64, 67, 0.3), 0 1px 3px 1px rgba(60, 64, 67, 0.15);\n",
              "    fill: var(--button-hover-fill-color);\n",
              "  }\n",
              "\n",
              "  .colab-df-quickchart-complete:disabled,\n",
              "  .colab-df-quickchart-complete:disabled:hover {\n",
              "    background-color: var(--disabled-bg-color);\n",
              "    fill: var(--disabled-fill-color);\n",
              "    box-shadow: none;\n",
              "  }\n",
              "\n",
              "  .colab-df-spinner {\n",
              "    border: 2px solid var(--fill-color);\n",
              "    border-color: transparent;\n",
              "    border-bottom-color: var(--fill-color);\n",
              "    animation:\n",
              "      spin 1s steps(1) infinite;\n",
              "  }\n",
              "\n",
              "  @keyframes spin {\n",
              "    0% {\n",
              "      border-color: transparent;\n",
              "      border-bottom-color: var(--fill-color);\n",
              "      border-left-color: var(--fill-color);\n",
              "    }\n",
              "    20% {\n",
              "      border-color: transparent;\n",
              "      border-left-color: var(--fill-color);\n",
              "      border-top-color: var(--fill-color);\n",
              "    }\n",
              "    30% {\n",
              "      border-color: transparent;\n",
              "      border-left-color: var(--fill-color);\n",
              "      border-top-color: var(--fill-color);\n",
              "      border-right-color: var(--fill-color);\n",
              "    }\n",
              "    40% {\n",
              "      border-color: transparent;\n",
              "      border-right-color: var(--fill-color);\n",
              "      border-top-color: var(--fill-color);\n",
              "    }\n",
              "    60% {\n",
              "      border-color: transparent;\n",
              "      border-right-color: var(--fill-color);\n",
              "    }\n",
              "    80% {\n",
              "      border-color: transparent;\n",
              "      border-right-color: var(--fill-color);\n",
              "      border-bottom-color: var(--fill-color);\n",
              "    }\n",
              "    90% {\n",
              "      border-color: transparent;\n",
              "      border-bottom-color: var(--fill-color);\n",
              "    }\n",
              "  }\n",
              "</style>\n",
              "\n",
              "      <script>\n",
              "        async function quickchart(key) {\n",
              "          const quickchartButtonEl =\n",
              "            document.querySelector('#' + key + ' button');\n",
              "          quickchartButtonEl.disabled = true;  // To prevent multiple clicks.\n",
              "          quickchartButtonEl.classList.add('colab-df-spinner');\n",
              "          try {\n",
              "            const charts = await google.colab.kernel.invokeFunction(\n",
              "                'suggestCharts', [key], {});\n",
              "          } catch (error) {\n",
              "            console.error('Error during call to suggestCharts:', error);\n",
              "          }\n",
              "          quickchartButtonEl.classList.remove('colab-df-spinner');\n",
              "          quickchartButtonEl.classList.add('colab-df-quickchart-complete');\n",
              "        }\n",
              "        (() => {\n",
              "          let quickchartButtonEl =\n",
              "            document.querySelector('#df-7b3ecef1-933d-4153-b1ce-e167541813e4 button');\n",
              "          quickchartButtonEl.style.display =\n",
              "            google.colab.kernel.accessAllowed ? 'block' : 'none';\n",
              "        })();\n",
              "      </script>\n",
              "    </div>\n",
              "\n",
              "    </div>\n",
              "  </div>\n"
            ],
            "application/vnd.google.colaboratory.intrinsic+json": {
              "type": "dataframe",
              "variable_name": "df"
            }
          },
          "metadata": {},
          "execution_count": 25
        }
      ]
    },
    {
      "cell_type": "code",
      "source": [
        "df.isna().sum()"
      ],
      "metadata": {
        "id": "OnIhQ0UA9g1C",
        "colab": {
          "base_uri": "https://localhost:8080/",
          "height": 993
        },
        "outputId": "6abec7ff-0065-4fb2-a60e-8feaa5301fd5"
      },
      "execution_count": 26,
      "outputs": [
        {
          "output_type": "execute_result",
          "data": {
            "text/plain": [
              "id                         0\n",
              "surgery                    0\n",
              "age                        0\n",
              "hospital_number            0\n",
              "rectal_temp                0\n",
              "pulse                      0\n",
              "respiratory_rate           0\n",
              "temp_of_extremities       39\n",
              "peripheral_pulse          60\n",
              "mucous_membrane           21\n",
              "capillary_refill_time      6\n",
              "pain                      44\n",
              "peristalsis               20\n",
              "abdominal_distention      23\n",
              "nasogastric_tube          80\n",
              "nasogastric_reflux        21\n",
              "nasogastric_reflux_ph      0\n",
              "rectal_exam_feces        190\n",
              "abdomen                  213\n",
              "packed_cell_volume         0\n",
              "total_protein              0\n",
              "abdomo_appearance         48\n",
              "abdomo_protein             0\n",
              "surgical_lesion            0\n",
              "lesion_1                   0\n",
              "lesion_2                   0\n",
              "lesion_3                   0\n",
              "cp_data                    0\n",
              "outcome                    0\n",
              "dtype: int64"
            ],
            "text/html": [
              "<div>\n",
              "<style scoped>\n",
              "    .dataframe tbody tr th:only-of-type {\n",
              "        vertical-align: middle;\n",
              "    }\n",
              "\n",
              "    .dataframe tbody tr th {\n",
              "        vertical-align: top;\n",
              "    }\n",
              "\n",
              "    .dataframe thead th {\n",
              "        text-align: right;\n",
              "    }\n",
              "</style>\n",
              "<table border=\"1\" class=\"dataframe\">\n",
              "  <thead>\n",
              "    <tr style=\"text-align: right;\">\n",
              "      <th></th>\n",
              "      <th>0</th>\n",
              "    </tr>\n",
              "  </thead>\n",
              "  <tbody>\n",
              "    <tr>\n",
              "      <th>id</th>\n",
              "      <td>0</td>\n",
              "    </tr>\n",
              "    <tr>\n",
              "      <th>surgery</th>\n",
              "      <td>0</td>\n",
              "    </tr>\n",
              "    <tr>\n",
              "      <th>age</th>\n",
              "      <td>0</td>\n",
              "    </tr>\n",
              "    <tr>\n",
              "      <th>hospital_number</th>\n",
              "      <td>0</td>\n",
              "    </tr>\n",
              "    <tr>\n",
              "      <th>rectal_temp</th>\n",
              "      <td>0</td>\n",
              "    </tr>\n",
              "    <tr>\n",
              "      <th>pulse</th>\n",
              "      <td>0</td>\n",
              "    </tr>\n",
              "    <tr>\n",
              "      <th>respiratory_rate</th>\n",
              "      <td>0</td>\n",
              "    </tr>\n",
              "    <tr>\n",
              "      <th>temp_of_extremities</th>\n",
              "      <td>39</td>\n",
              "    </tr>\n",
              "    <tr>\n",
              "      <th>peripheral_pulse</th>\n",
              "      <td>60</td>\n",
              "    </tr>\n",
              "    <tr>\n",
              "      <th>mucous_membrane</th>\n",
              "      <td>21</td>\n",
              "    </tr>\n",
              "    <tr>\n",
              "      <th>capillary_refill_time</th>\n",
              "      <td>6</td>\n",
              "    </tr>\n",
              "    <tr>\n",
              "      <th>pain</th>\n",
              "      <td>44</td>\n",
              "    </tr>\n",
              "    <tr>\n",
              "      <th>peristalsis</th>\n",
              "      <td>20</td>\n",
              "    </tr>\n",
              "    <tr>\n",
              "      <th>abdominal_distention</th>\n",
              "      <td>23</td>\n",
              "    </tr>\n",
              "    <tr>\n",
              "      <th>nasogastric_tube</th>\n",
              "      <td>80</td>\n",
              "    </tr>\n",
              "    <tr>\n",
              "      <th>nasogastric_reflux</th>\n",
              "      <td>21</td>\n",
              "    </tr>\n",
              "    <tr>\n",
              "      <th>nasogastric_reflux_ph</th>\n",
              "      <td>0</td>\n",
              "    </tr>\n",
              "    <tr>\n",
              "      <th>rectal_exam_feces</th>\n",
              "      <td>190</td>\n",
              "    </tr>\n",
              "    <tr>\n",
              "      <th>abdomen</th>\n",
              "      <td>213</td>\n",
              "    </tr>\n",
              "    <tr>\n",
              "      <th>packed_cell_volume</th>\n",
              "      <td>0</td>\n",
              "    </tr>\n",
              "    <tr>\n",
              "      <th>total_protein</th>\n",
              "      <td>0</td>\n",
              "    </tr>\n",
              "    <tr>\n",
              "      <th>abdomo_appearance</th>\n",
              "      <td>48</td>\n",
              "    </tr>\n",
              "    <tr>\n",
              "      <th>abdomo_protein</th>\n",
              "      <td>0</td>\n",
              "    </tr>\n",
              "    <tr>\n",
              "      <th>surgical_lesion</th>\n",
              "      <td>0</td>\n",
              "    </tr>\n",
              "    <tr>\n",
              "      <th>lesion_1</th>\n",
              "      <td>0</td>\n",
              "    </tr>\n",
              "    <tr>\n",
              "      <th>lesion_2</th>\n",
              "      <td>0</td>\n",
              "    </tr>\n",
              "    <tr>\n",
              "      <th>lesion_3</th>\n",
              "      <td>0</td>\n",
              "    </tr>\n",
              "    <tr>\n",
              "      <th>cp_data</th>\n",
              "      <td>0</td>\n",
              "    </tr>\n",
              "    <tr>\n",
              "      <th>outcome</th>\n",
              "      <td>0</td>\n",
              "    </tr>\n",
              "  </tbody>\n",
              "</table>\n",
              "</div><br><label><b>dtype:</b> int64</label>"
            ]
          },
          "metadata": {},
          "execution_count": 26
        }
      ]
    },
    {
      "cell_type": "code",
      "source": [
        "import pandas as pd\n",
        "from sklearn.impute import SimpleImputer\n",
        "\n",
        "df.drop('lesion_3', inplace = True, axis = 1)\n",
        "\n",
        "# Create imputer objects\n",
        "num_imputer = SimpleImputer(strategy='median')  # Imputer for numerical data\n",
        "cat_imputer = SimpleImputer(strategy='most_frequent')  # Imputer for categorical data\n",
        "\n",
        "# Define columns by type\n",
        "num_cols = ['rectal_temp', 'pulse', 'respiratory_rate']  # Numerical columns\n",
        "cat_cols = ['temp_of_extremities', 'peripheral_pulse', 'mucous_membrane', 'capillary_refill_time',\n",
        "            'pain', 'peristalsis', 'abdominal_distention', 'nasogastric_tube',\n",
        "            'nasogastric_reflux', 'abdomen', 'abdomo_appearance', 'rectal_exam_feces']  # Categorical columns\n",
        "\n",
        "# Apply imputation\n",
        "df[num_cols] = num_imputer.fit_transform(df[num_cols])\n",
        "df[cat_cols] = cat_imputer.fit_transform(df[cat_cols])"
      ],
      "metadata": {
        "id": "xxmaSkFe-9fP"
      },
      "execution_count": 27,
      "outputs": []
    },
    {
      "cell_type": "code",
      "source": [
        "df['outcome'].value_counts()"
      ],
      "metadata": {
        "id": "kIChJZ7TUypt",
        "colab": {
          "base_uri": "https://localhost:8080/",
          "height": 209
        },
        "outputId": "1ce84978-82f5-4412-a7d6-2478f8e754c3"
      },
      "execution_count": 28,
      "outputs": [
        {
          "output_type": "execute_result",
          "data": {
            "text/plain": [
              "outcome\n",
              "lived         574\n",
              "died          410\n",
              "euthanized    251\n",
              "Name: count, dtype: int64"
            ],
            "text/html": [
              "<div>\n",
              "<style scoped>\n",
              "    .dataframe tbody tr th:only-of-type {\n",
              "        vertical-align: middle;\n",
              "    }\n",
              "\n",
              "    .dataframe tbody tr th {\n",
              "        vertical-align: top;\n",
              "    }\n",
              "\n",
              "    .dataframe thead th {\n",
              "        text-align: right;\n",
              "    }\n",
              "</style>\n",
              "<table border=\"1\" class=\"dataframe\">\n",
              "  <thead>\n",
              "    <tr style=\"text-align: right;\">\n",
              "      <th></th>\n",
              "      <th>count</th>\n",
              "    </tr>\n",
              "    <tr>\n",
              "      <th>outcome</th>\n",
              "      <th></th>\n",
              "    </tr>\n",
              "  </thead>\n",
              "  <tbody>\n",
              "    <tr>\n",
              "      <th>lived</th>\n",
              "      <td>574</td>\n",
              "    </tr>\n",
              "    <tr>\n",
              "      <th>died</th>\n",
              "      <td>410</td>\n",
              "    </tr>\n",
              "    <tr>\n",
              "      <th>euthanized</th>\n",
              "      <td>251</td>\n",
              "    </tr>\n",
              "  </tbody>\n",
              "</table>\n",
              "</div><br><label><b>dtype:</b> int64</label>"
            ]
          },
          "metadata": {},
          "execution_count": 28
        }
      ]
    },
    {
      "cell_type": "markdown",
      "source": [
        "\n",
        "\n",
        "---\n",
        "# Assesments for Naive Bayes-I\n"
      ],
      "metadata": {
        "id": "mWqrTpO91_LW"
      }
    },
    {
      "cell_type": "markdown",
      "source": [
        "\n",
        "\n",
        "---\n",
        "\n",
        "\n",
        "\n",
        "### Pulse Rate Distribution\n",
        "\n",
        "#### Context:\n",
        "Analyzing the pulse rate distribution among horses with different health outcomes can provide critical insights into physiological states associated with various health conditions. This analysis can help veterinarians understand how pulse rate might correlate with the severity or type of condition a horse is facing.\n",
        "\n",
        "#### Task:\n",
        "Create a visual representation to analyze the pulse rate distribution across different health outcomes using the 'pulse' and 'outcome' columns in the dataset.\n",
        "\n",
        "#### Instructions:\n",
        "1. **Group and Count Data:** Use the dataset to group entries by 'outcome' and calculate the average 'pulse' for each outcome category.\n",
        "2. **Visualize Data:** Generate a box plot to display the distribution of pulse rates for each health outcome category. This will help in visually comparing the pulse rate variability associated with different outcomes.\n",
        "3. **Analyze Trends:** Examine the box plot to determine which health outcome is associated with the highest average pulse rate and which shows the most variability in pulse rates.\n",
        "\n",
        "#### Question:\n",
        "After analyzing the box plot representing the pulse rate distribution for different health outcomes, identify the correct statements regarding pulse rates.\n",
        "\n",
        "#### Options:\n",
        "A) The average pulse rate is highest among horses that lived, indicating recovery from potentially distressing conditions.\n",
        "\n",
        "B) The average pulse rate is lowest for horses that were euthanized, suggesting less physiological distress before euthanasia.\n",
        "\n",
        "C) The average pulse rate is highest among horses that died, suggesting a correlation between high pulse rates and critical health conditions leading to death.\n",
        "\n",
        "D) The box plot shows no significant difference in the average pulse rates across different health outcomes."
      ],
      "metadata": {
        "id": "L7g1lN5b1iv2"
      }
    },
    {
      "cell_type": "code",
      "source": [
        "import matplotlib.pyplot as plt\n",
        "import seaborn as sns\n",
        "\n",
        "# TODO: Group the dataframe by 'outcome' and calculate the average 'pulse' for each outcome category.\n",
        "pulse_outcome_data = df.groupby('outcome')[\"pulse\"].mean()  # Consider what function might summarize the data effectively.\n",
        "print(pulse_outcome_data)\n",
        "\n",
        "# Set a custom color palette (optional)\n",
        "custom_palette = sns.color_palette(\"pastel\")\n",
        "\n",
        "# TODO: Utilize seaborn to create a box plot that shows variation within grouped data.\n",
        "sns.boxplot(x=\"outcome\", y=\"pulse\", data=df, palette=custom_palette)\n",
        "plt.title('Pulse Rate Distribution by Health Outcome')\n",
        "plt.xlabel('Health Outcome')\n",
        "plt.ylabel('Pulse Rate')\n",
        "plt.xticks(rotation=45)\n",
        "plt.tight_layout()  # Adjust layout to not cut off labels\n",
        "\n",
        "plt.show()"
      ],
      "metadata": {
        "id": "OwG1FsdlzvPC",
        "colab": {
          "base_uri": "https://localhost:8080/",
          "height": 578
        },
        "outputId": "dcca0d65-d1fc-4dca-af56-e14a64268dbd"
      },
      "execution_count": 29,
      "outputs": [
        {
          "output_type": "stream",
          "name": "stdout",
          "text": [
            "outcome\n",
            "died          90.207317\n",
            "euthanized    86.573705\n",
            "lived         68.918118\n",
            "Name: pulse, dtype: float64\n"
          ]
        },
        {
          "output_type": "display_data",
          "data": {
            "text/plain": [
              "<Figure size 640x480 with 1 Axes>"
            ],
            "image/png": "[encoded data removed]"
          },
          "metadata": {}
        }
      ]
    },
    {
      "cell_type": "markdown",
      "source": [
        "**C) The average pulse rate is highest among horses that died, suggesting a correlation between high pulse rates and critical health conditions leading to death.**"
      ],
      "metadata": {
        "id": "3inQHr5J2Guz"
      }
    },
    {
      "cell_type": "markdown",
      "source": [
        "\n",
        "\n",
        "---\n",
        "\n",
        "### Rectal Temperature Correlation\n",
        "\n",
        "#### Context:\n",
        "Understanding how rectal temperature correlates with health outcomes in horses can provide valuable insights for veterinary treatment strategies. Rectal temperature is a critical clinical parameter and its deviations from the norm can indicate various health conditions.\n",
        "\n",
        "#### Task:\n",
        "Analyze the impact of different rectal temperature categories on health outcomes. The rectal temperatures will be categorized into hypothermia, normal, and fever to observe how these conditions correlate with health outcomes.\n",
        "\n",
        "#### Instructions:\n",
        "1. **Create Temperature Categories:** Add a new column to the dataset, 'temp_category', which categorizes rectal temperature into hypothermia (<37.5°C), normal (37.5-38.5°C), and fever (>38.5°C).\n",
        "2. **Group Data by Temperature Category:** Group the dataset by 'temp_category' and 'outcome' to analyze the distribution of health outcomes within each temperature category.\n",
        "3. **Visualize and Analyze Data:** Create a bar chart to visualize the count of each health outcome within the different temperature categories. This will help identify any significant correlations between rectal temperature and health outcomes.\n",
        "\n",
        "#### Question:\n",
        "After analyzing the bar chart which depicts the count of health outcomes within each rectal temperature category, identify the correct statement regarding the correlation between rectal temperature categories and health outcomes.\n",
        "\n",
        "#### Options:\n",
        "A) Horses with fever have the highest survival rate.\n",
        "\n",
        "B) Normal rectal temperature is associated with the best health outcomes.\n",
        "\n",
        "C) Horses with hypothermia are more likely to be euthanized.\n",
        "\n",
        "D) There is no significant relationship between rectal temperature categories and health outcomes.\n"
      ],
      "metadata": {
        "id": "0YJZ51QR3Dxk"
      }
    },
    {
      "cell_type": "code",
      "source": [
        "# Define function to categorize rectal temperature\n",
        "def categorize_temp(temp):\n",
        "    # TODO: Return the category based on temperature values (use if-elif-else structure).\n",
        "    if temp < 37.5:\n",
        "        return \"Hypothermia\"\n",
        "    elif 37.5 <= temp <= 38.5:\n",
        "        return \"Normal\"\n",
        "    else:\n",
        "        return \"Fever\"\n",
        "\n",
        "# Apply function to create a new column\n",
        "df['temp_category'] = df['rectal_temp'].apply(categorize_temp)  # TODO: Choose the appropriate DataFrame method to apply a function.\n",
        "\n",
        "# Grouping data by temperature category and outcome for plotting\n",
        "grouped_data = df.groupby(['temp_category','outcome']).count()['id'].reset_index()  # TODO: Group by two columns and count a unique identifier.\n",
        "grouped_data.columns = ['Temperature Category', 'Outcome', 'Count']\n",
        "\n",
        "# Create a pivot table for visualization\n",
        "pivot_table = pd.pivot_table(grouped_data, values='Count', index='Temperature Category', columns='Outcome', fill_value=0)  # TODO: Fill the blanks to correctly set up the pivot table parameters.\n",
        "\n",
        "# Plotting the data\n",
        "pivot_table.plot(kind='bar', stacked=True)\n",
        "plt.title('Health Outcomes by Rectal Temperature Category')\n",
        "plt.xlabel('Temperature Category')\n",
        "plt.ylabel('Count of Outcomes')\n",
        "plt.xticks(rotation=0)\n",
        "plt.legend(title='Health Outcome')\n",
        "plt.tight_layout()  # Adjust layout to not cut off labels\n",
        "\n",
        "plt.show()"
      ],
      "metadata": {
        "id": "SNEr0RjO1k5Y",
        "colab": {
          "base_uri": "https://localhost:8080/",
          "height": 487
        },
        "outputId": "8c459360-2488-43c6-ef78-29155ca6428a"
      },
      "execution_count": 30,
      "outputs": [
        {
          "output_type": "display_data",
          "data": {
            "text/plain": [
              "<Figure size 640x480 with 1 Axes>"
            ],
            "image/png": "[encoded data removed]"
          },
          "metadata": {}
        }
      ]
    },
    {
      "cell_type": "code",
      "source": [
        "cross_tab=pd.crosstab(index=df[\"temp_category\"],columns=df[\"outcome\"])\n",
        "\n",
        "cross_tab.plot(kind='bar', stacked=True)\n",
        "plt.title('Health Outcomes by Rectal Temperature Category')\n",
        "plt.xlabel('Temperature Category')\n",
        "plt.ylabel('Count of Outcomes')\n",
        "plt.xticks(rotation=0)\n",
        "plt.legend(title='Health Outcome')\n"
      ],
      "metadata": {
        "colab": {
          "base_uri": "https://localhost:8080/",
          "height": 490
        },
        "id": "15OKikditwsQ",
        "outputId": "1bf324c1-e18f-4c27-f489-71215bc11da9"
      },
      "execution_count": 31,
      "outputs": [
        {
          "output_type": "execute_result",
          "data": {
            "text/plain": [
              "<matplotlib.legend.Legend at 0x796c1c20f3d0>"
            ]
          },
          "metadata": {},
          "execution_count": 31
        },
        {
          "output_type": "display_data",
          "data": {
            "text/plain": [
              "<Figure size 640x480 with 1 Axes>"
            ],
            "image/png": "[encoded data removed]"
          },
          "metadata": {}
        }
      ]
    },
    {
      "cell_type": "markdown",
      "source": [
        "**B) Normal rectal temperature is associated with the best health outcomes.**"
      ],
      "metadata": {
        "id": "Y9btt--O2bFE"
      }
    },
    {
      "cell_type": "markdown",
      "source": [
        "\n",
        "\n",
        "---\n",
        "\n",
        "\n",
        "### Naive Bayes Assumption and Its Impact\n",
        "\n",
        "#### Context:\n",
        "The Naive Bayes classifier, while simple and effective, assumes feature independence which may affect its application in complex datasets like \"Predict Horse Health Outcomes.\"\n",
        "\n",
        "#### Task:\n",
        "Evaluate how the Naive Bayes assumption of feature independence affects its performance on a dataset with interdependent features such as surgery, age, pulse, and mucous membrane status.\n",
        "\n",
        "#### Instructions:\n",
        "1. **Review the Assumption:** Consider the independence assumption of Naive Bayes.\n",
        "2. **Assess Potential Impacts:** Reflect on how this assumption might influence the model's effectiveness, especially where features might be interrelated.\n",
        "3. **Select the Most Accurate Statement:** Choose the statement that best describes Naive Bayes' assumption and its impact on the dataset.\n",
        "\n",
        "#### Statements:\n",
        "1. **Naive Bayes treats all features as equally interdependent.** This is suited for datasets with strong feature correlations, potentially making it less effective for independent feature scenarios.\n",
        "   \n",
        "2. **Naive Bayes assumes independence among features.** This could pose challenges if features like pulse and mucous membrane status, which may be related, are not truly independent.\n",
        "   \n",
        "3. **Naive Bayes expects numerical features to behave like categorical variables.** This might complicate handling datasets with a mix of feature types.\n",
        "   \n",
        "4. **Naive Bayes requires features to be independent and may need preprocessing to handle correlations like those between pulse and mucous membrane status.**\n",
        "\n",
        "#### Question:\n",
        "Considering the assumption and potential impacts of Naive Bayes on the horse health outcomes dataset, which statement number is most accurate?\n",
        "\n",
        "#### Option 2\n",
        "**Naive Bayes assumes independence among features. This could pose challenges if features like pulse and mucous membrane status, which may be related, are not truly independent.**"
      ],
      "metadata": {
        "id": "ge2Ock_O6YkO"
      }
    },
    {
      "cell_type": "markdown",
      "source": [
        "\n",
        "\n",
        "---\n",
        "\n",
        "### Analyzing Pain and Euthanasia Decisions\n",
        "\n",
        "#### Context:\n",
        "Understanding the decision-making process in veterinary care, particularly euthanasia, can be crucial in managing horse health outcomes. Analyzing how pain levels influence these decisions is particularly significant.\n",
        "\n",
        "#### Task:\n",
        "Using Bayes' Theorem, calculate the probability that a horse is euthanized given it experiences severe pain and assess what this indicates about the role of pain in euthanasia decisions.\n",
        "\n",
        "#### Instructions:\n",
        "1. **Review Given Probabilities:**\n",
        "   - P(Severe Pain) = 0.20\n",
        "   - P(Euthanized) = 0.25\n",
        "   - P(Severe Pain | Euthanized) = 0.50\n",
        "\n",
        "2. **Calculate the Probability:** Use Bayes' Theorem to find P(Euthanized | Severe Pain).\n",
        "\n",
        "3. **Interpret the Result:** Consider what the calculated probability implies about the impact of severe pain on euthanasia decisions.\n",
        "\n",
        "\n",
        "#### Question:\n",
        "Based on the calculation using Bayes' Theorem, what is the probability that a horse is euthanized given that it is experiencing severe pain? What does this probability suggest about the impact of severe pain on the decision to euthanize?\n",
        "\n",
        "#### Options:\n",
        "A) 0.40\n",
        "\n",
        "B) 0.50\n",
        "\n",
        "C) 0.75\n",
        "\n",
        "D) 0.625\n"
      ],
      "metadata": {
        "id": "A7pJUe_b73uB"
      }
    },
    {
      "cell_type": "code",
      "source": [
        "# Given probabilities\n",
        "P_SeverePain = 0.20\n",
        "P_Euthanized = 0.25\n",
        "P_SeverePain_Euthanized = 0.50\n",
        "\n",
        "# Bayes' Theorem calculation\n",
        "P_Euthanized_SeverePain = P_SeverePain_Euthanized*P_Euthanized/P_SeverePain  # TODO: Calculate the probability using Bayes' Theorem components given above.\n",
        "print(\"Probability of being euthanized given severe pain: {:.3f}\".format(P_Euthanized_SeverePain))"
      ],
      "metadata": {
        "id": "qapca5kA6GF0",
        "colab": {
          "base_uri": "https://localhost:8080/",
          "height": 0
        },
        "outputId": "3444504e-d693-4ede-db40-d286fe0bf52b"
      },
      "execution_count": 32,
      "outputs": [
        {
          "output_type": "stream",
          "name": "stdout",
          "text": [
            "Probability of being euthanized given severe pain: 0.625\n"
          ]
        }
      ]
    },
    {
      "cell_type": "markdown",
      "source": [
        "\n",
        "\n",
        "---\n",
        "\n",
        "### Evaluating Feature Significance with Chi-square Test\n",
        "\n",
        "#### Context:\n",
        "In statistical analysis for data, the Chi-square test of independence is essential for determining the association between features. This test helps identify which features are statistically significant in relation to the outcome variable in a dataset.\n",
        "\n",
        "#### Task:\n",
        "Perform a Chi-square test of independence on each Categorical feature against the 'outcome' variable to determine their significance in predicting health outcomes of horses. Given the significance level of 0.05, identify which Categoricalfeature is not significantly associated with the outcome.\n",
        "\n",
        "#### Instructions:\n",
        "1. **Perform Chi-square Tests:** Apply the Chi-square test to each Categorical feature against the 'outcome' variable.\n",
        "2. **Interpret Results:** Evaluate the p-values to determine which Categorical feature(s) fail to show a significant association with the outcome, suggesting they may not be useful for predictive modeling in this context.\n",
        "\n",
        "\n",
        "#### Question:\n",
        "Based on a significance level of 0.05, which Categorical feature was found to be not significantly associated with the 'outcome' variable, therefore failing the Chi-square test?\n",
        "\n",
        "#### Options:\n",
        "A) temp_of_extremities\n",
        "\n",
        "B) peripheral_pulse\n",
        "\n",
        "C) pain\n",
        "\n",
        "D) All columns passed"
      ],
      "metadata": {
        "id": "wiPhYuckKxAI"
      }
    },
    {
      "cell_type": "code",
      "source": [
        "from scipy.stats import chi2_contingency  # TODO: Import the necessary function for performing the Chi-square test.\n",
        "\n",
        "threshold = .05\n",
        "\n",
        "print(f'{\"Column\":<25} | Test result')\n",
        "print('----------------------------------------')\n",
        "\n",
        "for column in cat_cols:\n",
        "    # Create a contingency table\n",
        "    contingency_table = pd.crosstab(df['outcome'], df[column])  # TODO: Create a contingency table from two categorical columns.\n",
        "\n",
        "    # Perform the Chi-Square test\n",
        "    chi2, p, dof, expected_freq = chi2_contingency(contingency_table)  # TODO: Apply the imported function to compute the Chi-square statistic and p-value.\n",
        "\n",
        "    print(f'{column:<25} |   ', '\\033[32mPassed' if p < threshold else '\\033[31mFailed', '\\033[0m')"
      ],
      "metadata": {
        "id": "y9PP-lsPX56r",
        "colab": {
          "base_uri": "https://localhost:8080/",
          "height": 0
        },
        "outputId": "dcf2e380-84fd-41a7-db04-352074faba38"
      },
      "execution_count": 33,
      "outputs": [
        {
          "output_type": "stream",
          "name": "stdout",
          "text": [
            "Column                    | Test result\n",
            "----------------------------------------\n",
            "temp_of_extremities       |    \u001b[32mPassed \u001b[0m\n",
            "peripheral_pulse          |    \u001b[32mPassed \u001b[0m\n",
            "mucous_membrane           |    \u001b[32mPassed \u001b[0m\n",
            "capillary_refill_time     |    \u001b[32mPassed \u001b[0m\n",
            "pain                      |    \u001b[32mPassed \u001b[0m\n",
            "peristalsis               |    \u001b[32mPassed \u001b[0m\n",
            "abdominal_distention      |    \u001b[32mPassed \u001b[0m\n",
            "nasogastric_tube          |    \u001b[32mPassed \u001b[0m\n",
            "nasogastric_reflux        |    \u001b[32mPassed \u001b[0m\n",
            "abdomen                   |    \u001b[32mPassed \u001b[0m\n",
            "abdomo_appearance         |    \u001b[32mPassed \u001b[0m\n",
            "rectal_exam_feces         |    \u001b[32mPassed \u001b[0m\n"
          ]
        }
      ]
    },
    {
      "cell_type": "markdown",
      "source": [
        "**D) All columns passed**"
      ],
      "metadata": {
        "id": "7IZq_KWn4UAy"
      }
    },
    {
      "cell_type": "markdown",
      "source": [
        "---\n",
        "\n",
        "### Data Preprocessing for Modelling\n",
        "\n",
        "#### Context:\n",
        "In preparation for building a Gaussian Naive Bayes model to predict horse health outcomes, the initial step involves preprocessing the dataset. This includes dropping less relevant columns and applying appropriate transformations to the remaining data.\n",
        "\n",
        "#### Task:\n",
        "Prepare the data by dropping specified columns and applying transformations suitable for a Gaussian Naive Bayes model.\n",
        "\n",
        "#### Instructions:\n",
        "1. **Drop Columns:**\n",
        "   - Remove the 'id' columns from the dataset.\n",
        "2. **Apply Transformations:**\n",
        "   - Use `StandardScaler` to normalize numerical data.\n",
        "   - Apply `OrdinalEncoder` to encode categorical data that handles unknown values.\n",
        "3. **Split the Data:**\n",
        "   - Use `train_test_split` with a `random_state=0` to divide the data into training and test sets, targeting 'outcome' as the label. `test_size = 0.2`\n",
        "\n",
        "#### Question:\n",
        "After preprocessing, which categorical feature ends up with the highest number of unique ordinal values?\n",
        "\n",
        "#### Options:\n",
        "A) temp_of_extremities\n",
        "\n",
        "B) pain and mucous_membrane\n",
        "\n",
        "C) cp_data and abdomen\n",
        "\n",
        "D) nasogastric_reflux\n"
      ],
      "metadata": {
        "id": "7Xn4wefJRqYw"
      }
    },
    {
      "cell_type": "code",
      "source": [
        "from sklearn.model_selection import train_test_split\n",
        "from sklearn.preprocessing import StandardScaler, OrdinalEncoder  # TODO: Import necessary preprocessing classes.\n",
        "from sklearn.compose import ColumnTransformer\n",
        "\n",
        "# Drop unnecessary columns\n",
        "df_temp = df.drop(['id'], axis=1)\n",
        "\n",
        "# Identify numerical and categorical columns\n",
        "numerical_cols = df_temp.select_dtypes(include=['int', 'float']).columns.tolist()  # TODO: Specify data types to select numerical (int and float both) columns.\n",
        "categorical_cols = df_temp.select_dtypes(include=['object']).columns.tolist()  # TODO: Specify the data type for categorical(object).\n",
        "\n",
        "# Remove the target column from the feature lists\n",
        "categorical_cols.remove('outcome')\n",
        "\n",
        "# Prepare target and features\n",
        "X = df_temp.drop('outcome', axis=1)\n",
        "y = df_temp['outcome']\n",
        "\n",
        "# Split the dataset\n",
        "X_train, X_test, y_train, y_test = train_test_split(X, y, test_size=0.2, random_state=0)  # TODO: Use the appropriate function to split the data.\n",
        "\n",
        "# Create transformers for numerical and categorical data\n",
        "preprocessor = ColumnTransformer(\n",
        "    transformers=[\n",
        "        ('num', StandardScaler(), numerical_cols),  # TODO: Choose the correct transformer for numerical data.\n",
        "        ('cat', OrdinalEncoder(), categorical_cols)  # TODO: Choose the correct transformer for categorical data that handles unknown categories.\n",
        "    ])\n",
        "\n",
        "# Apply preprocessing\n",
        "X_train = preprocessor.fit_transform(X_train)  # TODO: Fit and Apply the preprocessor to training data.\n",
        "X_test = preprocessor.transform(X_test)  # TODO: Apply the preprocessor to test data.\n",
        "\n",
        "\n",
        "print(f'{\"Column\":<25} | Number of unique values')\n",
        "print('------'*10)\n",
        "for i in categorical_cols:\n",
        "    print(f'{i:<25} |   ', f'\\033[32m{df[i].unique()}' , '\\033[0m')\n"
      ],
      "metadata": {
        "id": "rLICqN4eRrpk",
        "colab": {
          "base_uri": "https://localhost:8080/",
          "height": 0
        },
        "outputId": "5eb6c8fb-e575-4257-ad55-ea3196d3d510"
      },
      "execution_count": 34,
      "outputs": [
        {
          "output_type": "stream",
          "name": "stdout",
          "text": [
            "Column                    | Number of unique values\n",
            "------------------------------------------------------------\n",
            "surgery                   |    \u001b[32m['yes' 'no'] \u001b[0m\n",
            "age                       |    \u001b[32m['adult' 'young'] \u001b[0m\n",
            "temp_of_extremities       |    \u001b[32m['cool' 'cold' 'normal' 'warm'] \u001b[0m\n",
            "peripheral_pulse          |    \u001b[32m['reduced' 'normal' 'absent' 'increased'] \u001b[0m\n",
            "mucous_membrane           |    \u001b[32m['dark_cyanotic' 'pale_cyanotic' 'pale_pink' 'normal_pink' 'bright_pink'\n",
            " 'bright_red'] \u001b[0m\n",
            "capillary_refill_time     |    \u001b[32m['more_3_sec' 'less_3_sec' '3'] \u001b[0m\n",
            "pain                      |    \u001b[32m['depressed' 'mild_pain' 'extreme_pain' 'alert' 'severe_pain' 'slight'] \u001b[0m\n",
            "peristalsis               |    \u001b[32m['absent' 'hypomotile' 'normal' 'hypermotile' 'distend_small'] \u001b[0m\n",
            "abdominal_distention      |    \u001b[32m['slight' 'moderate' 'none' 'severe'] \u001b[0m\n",
            "nasogastric_tube          |    \u001b[32m['slight' 'none' 'significant'] \u001b[0m\n",
            "nasogastric_reflux        |    \u001b[32m['less_1_liter' 'more_1_liter' 'none' 'slight'] \u001b[0m\n",
            "rectal_exam_feces         |    \u001b[32m['decreased' 'absent' 'normal' 'increased' 'serosanguious'] \u001b[0m\n",
            "abdomen                   |    \u001b[32m['distend_small' 'distend_large' 'normal' 'firm' 'other'] \u001b[0m\n",
            "abdomo_appearance         |    \u001b[32m['serosanguious' 'cloudy' 'clear'] \u001b[0m\n",
            "surgical_lesion           |    \u001b[32m['yes' 'no'] \u001b[0m\n",
            "cp_data                   |    \u001b[32m['no' 'yes'] \u001b[0m\n",
            "temp_category             |    \u001b[32m['Normal' 'Hypothermia' 'Fever'] \u001b[0m\n"
          ]
        }
      ]
    },
    {
      "cell_type": "markdown",
      "source": [
        "**B) pain and mucous_membrane**"
      ],
      "metadata": {
        "id": "jwMxAzV5-jHD"
      }
    },
    {
      "cell_type": "markdown",
      "source": [
        "\n",
        "\n",
        "---\n",
        "\n",
        "### Bernoulli Naive Bayes Classifier\n",
        "\n",
        "#### Context:\n",
        "Evaluating the performance of the Bernoulli Naive Bayes classifier not only through traditional classification metrics but also by analyzing the types of errors made can offer deeper insights into the model's behavior. A confusion matrix is particularly useful for this purpose as it visualizes the performance of an algorithm by showing the actual versus predicted classifications.\n",
        "\n",
        "#### Task:\n",
        "Generate a confusion matrix for the Bernoulli Naive Bayes model and analyze which outcome categories are most frequently misclassified.\n",
        "\n",
        "#### Instructions:\n",
        "1. **Prepare and Train the Model:**\n",
        "   - Implement the Bernoulli Naive Bayes classifier and train it on the dataset.\n",
        "   - Predict the outcomes using the test set.\n",
        "\n",
        "2. **Generate a Confusion Matrix:**\n",
        "   - Create a confusion matrix to visualize the model’s predictions against the actual values.\n",
        "\n",
        "3. **Analyze Misclassifications:**\n",
        "   - Examine the confusion matrix to determine which category is most frequently misclassified as \"Euthanized.\"\n",
        "\n",
        "#### Question:\n",
        "According to the confusion matrix generated from the Bernoulli Naive Bayes model, which category is most frequently incorrectly predicted as \"Euthanized\"?\n",
        "\n",
        "#### Options:\n",
        "A) Died\n",
        "\n",
        "B) Lived\n",
        "\n",
        "C) Both 'Died' and 'Lived' are equally misclassified as 'Euthanized'\n",
        "\n",
        "D) Neither 'Died' nor 'Lived' is misclassified as 'Euthanized'"
      ],
      "metadata": {
        "id": "y6xy-nOxecZe"
      }
    },
    {
      "cell_type": "code",
      "source": [
        "from sklearn.naive_bayes import BernoulliNB  # TODO: Correctly import the Bernoulli Naive Bayes classifier.\n",
        "from sklearn.metrics import classification_report, confusion_matrix\n",
        "\n",
        "# Encoding the 'outcome' variable\n",
        "outcome_map = {'died': 0, 'euthanized': 1, 'lived': 2}\n",
        "y_train_encoded = y_train.map(outcome_map)  # TODO: Apply the mapping to the 'y_train' series.\n",
        "y_test_encoded = y_test.map(outcome_map)  # TODO: Apply the mapping to the 'y_test' series.\n",
        "\n",
        "# Train Bernoulli Naive Bayes classifier\n",
        "bernoulli_nb = BernoulliNB()\n",
        "bernoulli_nb.fit(X_train, y_train_encoded)  # TODO: Fit the Bernoulli Naive Bayes model using training data.\n",
        "y_pred_ber = bernoulli_nb.predict(X_test)  # TODO: Predict outcomes using the test set.\n",
        "\n",
        "print(\"Bernoulli Naive Bayes Classification Report:\")\n",
        "print(classification_report(y_test_encoded, y_pred_ber, target_names=['Died', 'Euthanized', 'Lived']))  # TODO: Fill in the classification report with the appropriate arguments.\n",
        "\n",
        "# Generate the confusion matrix\n",
        "cm = confusion_matrix(y_test_encoded, y_pred_ber)  # TODO: Provide the correct variables to generate the confusion matrix.\n",
        "categories = ['Died', 'Euthanized', 'Lived']\n",
        "\n",
        "# Plotting the confusion matrix\n",
        "plt.figure(figsize=(10, 7))\n",
        "sns.heatmap(cm, annot=True, fmt='g', cmap='Blues', xticklabels=categories, yticklabels=categories)\n",
        "plt.xlabel('Predicted Labels')\n",
        "plt.ylabel('True Labels')\n",
        "plt.title('Confusion Matrix for Bernoulli Naive Bayes Classifier')\n",
        "plt.show()"
      ],
      "metadata": {
        "id": "ezpJ4zCMedXa",
        "colab": {
          "base_uri": "https://localhost:8080/",
          "height": 841
        },
        "outputId": "25917ea5-f5f5-490d-b7d9-8ee144a0d086"
      },
      "execution_count": 35,
      "outputs": [
        {
          "output_type": "stream",
          "name": "stdout",
          "text": [
            "Bernoulli Naive Bayes Classification Report:\n",
            "              precision    recall  f1-score   support\n",
            "\n",
            "        Died       0.66      0.78      0.71        89\n",
            "  Euthanized       0.55      0.67      0.60        42\n",
            "       Lived       0.74      0.58      0.65       116\n",
            "\n",
            "    accuracy                           0.66       247\n",
            "   macro avg       0.65      0.67      0.65       247\n",
            "weighted avg       0.68      0.66      0.66       247\n",
            "\n"
          ]
        },
        {
          "output_type": "display_data",
          "data": {
            "text/plain": [
              "<Figure size 1000x700 with 2 Axes>"
            ],
            "image/png": "[encoded data removed]"
          },
          "metadata": {}
        }
      ]
    },
    {
      "cell_type": "markdown",
      "source": [
        "\n",
        "\n",
        "---\n",
        "# Assesments for Naive Bayes-II\n"
      ],
      "metadata": {
        "id": "mNqoWbeoXCjz"
      }
    },
    {
      "cell_type": "markdown",
      "source": [
        "\n",
        "\n",
        "---\n",
        "\n",
        "### Mucous Membrane Condition\n",
        "\n",
        "#### Context:\n",
        "The condition of a horse's mucous membrane can provide valuable insights into its circulatory and respiratory health, which are critical factors in determining the overall health status. Analyzing how different conditions of mucous membranes correlate with health outcomes can help in early diagnosis and management of health issues.\n",
        "\n",
        "#### Task:\n",
        "Investigate the relationship between the condition of the mucous membrane and health outcomes in horses.\n",
        "\n",
        "#### Instructions:\n",
        "1. **Group Data by Mucous Membrane Condition:** Use the dataset to group entries by 'mucous_membrane' and 'outcome' to analyze the distribution of health outcomes within each mucous membrane condition category.\n",
        "2. **Visualize and Analyze Data:** Create a bar chart to visualize the count of each health outcome within the different mucous membrane condition categories. This will help identify any significant correlations between mucous membrane condition and health outcomes.\n",
        "\n",
        "#### Question:\n",
        "After analyzing the bar chart which depicts the count of health outcomes within each mucous membrane condition category, identify the correct statement regarding the correlation between mucous membrane condition and health outcomes.\n",
        "\n",
        "#### Options:\n",
        "A) Horses with normal pink mucous membranes tend to have better health outcomes and higher survival rates.\n",
        "\n",
        "B) A pale or cyanotic mucous membrane is strongly associated with a higher survival rate.\n",
        "\n",
        "C) Horses with bright pink mucous membranes are more likely to be euthanized due to severe health issues.\n",
        "\n",
        "D) The color of the mucous membrane has no correlation with the health outcomes of horses.\n",
        "\n"
      ],
      "metadata": {
        "id": "NOXVtFR252TH"
      }
    },
    {
      "cell_type": "code",
      "source": [
        "# Grouping data by mucous membrane condition and outcome for plotting\n",
        "grouped_data = df.groupby([\"outcome\",\"mucous_membrane\"]).count()['id'].reset_index()  # TODO: Choose appropriate columns for grouping and a method to summarize the data.\n",
        "grouped_data.columns = ['Mucous Membrane Condition', 'Outcome', 'Count']\n",
        "\n",
        "# Create a pivot table for visualization\n",
        "pivot_table = pd.pivot_table(grouped_data, values=\"Count\", index=\"Outcome\", columns=\"Mucous Membrane Condition\", fill_value=0)  # TODO: Determine which values will be summarized and how they should be arranged in the pivot table.\n",
        "\n",
        "# Plotting the data\n",
        "pivot_table.plot(kind='bar', stacked=True)\n",
        "plt.title('Health Outcomes by Mucous Membrane Condition')\n",
        "plt.xlabel('Mucous Membrane Condition')\n",
        "plt.ylabel('Count of Outcomes')\n",
        "plt.xticks(rotation=45)\n",
        "plt.legend(title='Health Outcome')\n",
        "plt.tight_layout()  # Adjust layout to not cut off labels\n",
        "\n",
        "plt.show()\n"
      ],
      "metadata": {
        "id": "PHf8DxM73XGe",
        "colab": {
          "base_uri": "https://localhost:8080/",
          "height": 487
        },
        "outputId": "28de1b0c-22a2-4312-e0e1-4c7ff5810d6f"
      },
      "execution_count": 36,
      "outputs": [
        {
          "output_type": "display_data",
          "data": {
            "text/plain": [
              "<Figure size 640x480 with 1 Axes>"
            ],
            "image/png": "[encoded data removed]"
          },
          "metadata": {}
        }
      ]
    },
    {
      "cell_type": "code",
      "source": [
        "import matplotlib.pyplot as plt\n",
        "\n",
        "cross_tab_a=pd.crosstab(df[\"mucous_membrane\"],df[\"outcome\"])\n",
        "cross_tab_b=pd.crosstab(df[\"mucous_membrane\"],df[\"outcome\"])\n",
        "\n",
        "# Create a figure with two subplots side by side\n",
        "fig, axes = plt.subplots(1, 2, figsize=(16, 6)) # 1 row, 2 columns\n",
        "\n",
        "# Plotting the data in grid (0,0) as stacked bar plot\n",
        "cross_tab_a.plot(kind='bar', stacked=True, ax=axes[0]) # Stacked bar plot\n",
        "axes[0].set_title(\"Health Outcomes by Mucous Membrane Condition (Stacked)\") # Updated title\n",
        "axes[0].set_xlabel(\"Mucous Membrane Condition\")\n",
        "axes[0].set_ylabel('count of outcomes within each mucous membrane category')\n",
        "axes[0].tick_params(axis='x', rotation=45)\n",
        "axes[0].legend(title='Health Outcome')\n",
        "\n",
        "\n",
        "# Plotting the data in grid (0,1) as grouped bar plot\n",
        "cross_tab_b.plot(kind='bar', stacked=False, ax=axes[1]) # Grouped bar plot\n",
        "axes[1].set_title(\"Health Outcomes by Mucous Membrane Condition (Grouped)\") # Updated title\n",
        "axes[1].set_xlabel(\"Mucous Membrane Condition\")\n",
        "axes[1].set_ylabel('Count of Outcomes')\n",
        "axes[1].tick_params(axis='x', rotation=45)\n",
        "axes[1].legend(title='Health Outcome')\n",
        "\n",
        "fig.tight_layout()  # Adjust layout to not cut off labels\n",
        "\n",
        "plt.show()"
      ],
      "metadata": {
        "colab": {
          "base_uri": "https://localhost:8080/",
          "height": 499
        },
        "id": "XeDldLt6e4UR",
        "outputId": "cbdf98ef-c622-4841-c06a-ffb17af5a115"
      },
      "execution_count": 37,
      "outputs": [
        {
          "output_type": "display_data",
          "data": {
            "text/plain": [
              "<Figure size 1600x600 with 2 Axes>"
            ],
            "image/png": "[encoded data removed]"
          },
          "metadata": {}
        }
      ]
    },
    {
      "cell_type": "markdown",
      "source": [
        "* **A) Horses with normal pink mucous membranes tend to have better health outcomes and higher survival rates.**\n",
        "* Pale pink  mucous membranes is more common among Horses followed by normal pink."
      ],
      "metadata": {
        "id": "uRz0LNYc23Vi"
      }
    },
    {
      "cell_type": "markdown",
      "source": [
        "\n",
        "\n",
        "\n",
        "---\n",
        "\n",
        "\n",
        "\n",
        "### Training and Evaluating the Gaussian Model\n",
        "\n",
        "#### Context:\n",
        "After preprocessing the dataset for the \"Predict Health Outcomes of Horses\" and training a Gaussian Naive Bayes model, the next step is to evaluate the classifier’s performance. This involves encoding the target variable and analyzing the model's ability to predict each category.\n",
        "\n",
        "#### Task:\n",
        "Train and evaluate the Gaussian Naive Bayes classifier using the preprocessed features and encoded target. Use the classification report to identify which category the model has difficulty predicting.\n",
        "\n",
        "#### Instructions:\n",
        "1. **Encode the Target Variable:**\n",
        "   - Map the 'outcome' categories to numeric values using the provided dictionary.\n",
        "2. **Model Training:**\n",
        "   - Train the Gaussian Naive Bayes classifier using the encoded training data.\n",
        "3. **Model Evaluation:**\n",
        "   - Evaluate the classifier's performance using the classification report to identify which category is most problematic.\n",
        "\n",
        "#### Question:\n",
        "Which category does the Gaussian Naive Bayes model struggle with the most, according to the classification report?\n",
        "\n",
        "#### Options:\n",
        "A) Died\n",
        "\n",
        "B) Euthanized\n",
        "\n",
        "C) Lived\n",
        "\n",
        "D) All categories have nearly identical recall"
      ],
      "metadata": {
        "id": "rFZ61ZosR7QA"
      }
    },
    {
      "cell_type": "code",
      "source": [
        "from sklearn.naive_bayes import GaussianNB  # TODO: Import the Gaussian Naive Bayes classifier.\n",
        "from sklearn.metrics import classification_report, confusion_matrix  # TODO: Import necessary functions for evaluation.\n",
        "\n",
        "# Encoding the 'outcome' variable\n",
        "outcome_map = {'died': 0, 'euthanized': 1, 'lived': 2}\n",
        "y_train_encoded = y_train.map(outcome_map)  # TODO: Apply the mapping to the 'y_train' series.\n",
        "y_test_encoded = y_test.map(outcome_map)  # TODO: Apply the mapping to the 'y_test' series.\n",
        "\n",
        "# Initialize and train Gaussian Naive Bayes classifier\n",
        "model = GaussianNB()\n",
        "model.fit(X_train, y_train_encoded)  # TODO: Fit the model using the training data.\n",
        "\n",
        "# Predict on the test set\n",
        "y_pred = model.predict(X_test)  # TODO: Make predictions using the test data.\n",
        "\n",
        "# Generate the classification report\n",
        "report = classification_report(y_test_encoded, y_pred, target_names=['Died', 'Euthanized', 'Lived'])  # TODO: Provide the correct variables to generate the classification report.\n",
        "print(report)"
      ],
      "metadata": {
        "id": "ejLaPK40R3rM",
        "colab": {
          "base_uri": "https://localhost:8080/",
          "height": 0
        },
        "outputId": "61014148-3587-4565-d5db-46d16dea0b7e"
      },
      "execution_count": 38,
      "outputs": [
        {
          "output_type": "stream",
          "name": "stdout",
          "text": [
            "              precision    recall  f1-score   support\n",
            "\n",
            "        Died       0.49      0.98      0.65        89\n",
            "  Euthanized       0.56      0.57      0.56        42\n",
            "       Lived       0.88      0.20      0.32       116\n",
            "\n",
            "    accuracy                           0.54       247\n",
            "   macro avg       0.64      0.58      0.51       247\n",
            "weighted avg       0.69      0.54      0.48       247\n",
            "\n"
          ]
        }
      ]
    },
    {
      "cell_type": "markdown",
      "source": [
        "**C) Lived**"
      ],
      "metadata": {
        "id": "FaGawp6J-U8H"
      }
    },
    {
      "cell_type": "markdown",
      "source": [
        "\n",
        "\n",
        "---\n",
        "\n",
        "\n",
        "### Cross-Validation with Gaussian\n",
        "\n",
        "#### Context:\n",
        "Cross-validation is a robust technique for assessing the generalizability of a predictive model beyond the specific data used during training. Using 5-fold cross-validation with the Gaussian Naive Bayes classifier provides insight into the model's performance across different subsets of the dataset.\n",
        "\n",
        "#### Task:\n",
        "Apply 5-fold cross-validation using the Gaussian Naive Bayes Classifier on the \"Predict Health Outcomes of Horses\" dataset, utilizing the 'f1_weighted' scoring metric to evaluate the model's performance.\n",
        "\n",
        "#### Instructions:\n",
        "1. **Set Up Cross-Validation:**\n",
        "   - Use the Gaussian Naive Bayes classifier.\n",
        "   - Implement 5-fold cross-validation.\n",
        "   - Apply the 'f1_weighted' metric to measure model performance across folds.\n",
        "\n",
        "2. **Calculate the Average Score:**\n",
        "   - Determine the average 'f1_weighted' score across all cross-validation folds to assess the overall effectiveness of the model.\n",
        "\n",
        "#### Question:\n",
        "1. What is the average 'f1_weighted' score value using 5-fold cross-validation with the Gaussian Naive Bayes Classifier?\n",
        "2. Is this 'f1_weighted' score higher or lower than the F1 score from the previously generated classification report for the category the model struggled with the most?\n",
        "\n",
        "#### Options:\n",
        "A) Mean F1 score: 0.5, Higher\n",
        "\n",
        "B) Mean F1 score: 0.6, Higher\n",
        "\n",
        "C) Mean F1 score: 0.7, Lower\n",
        "\n",
        "D) Mean F1 score: 0.8, Lower"
      ],
      "metadata": {
        "id": "VpitgxmbDZf_"
      }
    },
    {
      "cell_type": "code",
      "source": [
        "from sklearn.model_selection import cross_val_score  # TODO: Import the function to perform cross-validation.\n",
        "\n",
        "# Perform 5-fold cross-validation using 'f1_weighted' as the scoring metric\n",
        "# Review the scoring parameters available in the documentation to ensure correct usage. https://scikit-learn.org/stable/modules/model_evaluation.html#scoring-parameter\n",
        "cv_scores = cross_val_score(model, X_train, y_train_encoded, cv=5, scoring='f1_weighted')  # TODO: Initialize the classifier, set the number of folds, and specify the scoring metric.\n",
        "\n",
        "# Calculate the average of the cross-validation scores\n",
        "average_cv_score = cv_scores.mean()  # TODO: Determine the appropriate method to calculate the mean of the scores.\n",
        "print(f\"Average F1 weighted score across 5 folds: {average_cv_score:.2f}\")"
      ],
      "metadata": {
        "id": "rqF9aGaSYkKl",
        "colab": {
          "base_uri": "https://localhost:8080/",
          "height": 0
        },
        "outputId": "f917d291-2b53-4b52-8bf7-f64e40a54b54"
      },
      "execution_count": 39,
      "outputs": [
        {
          "output_type": "stream",
          "name": "stdout",
          "text": [
            "Average F1 weighted score across 5 folds: 0.50\n"
          ]
        }
      ]
    },
    {
      "cell_type": "markdown",
      "source": [
        "\n",
        "\n",
        "---\n",
        "\n",
        "### Multinomial Naive Bayes Evaluation\n",
        "\n",
        "#### Context:\n",
        "After training a Gaussian Naive Bayes model on the \"Predict Health Outcomes of Horses\" dataset and obtaining its performance metrics, the next step involves evaluating a Multinomial Naive Bayes model. This evaluation will use the same dataset, but the continuous features will be scaled to `non-negative` values suitable for Multinomial Naive Bayes.\n",
        "\n",
        "#### Task:\n",
        "Evaluate the performance of the Multinomial Naive Bayes classifier after scaling the features to ensure all are non-negative, as required by the model.\n",
        "\n",
        "#### Instructions:\n",
        "1. **Data Preparation:**\n",
        "   - Scale the continuous features using `MinMaxScaler` to ensure all feature values are non-negative.\n",
        "   \n",
        "2. **Model Training and Evaluation:**\n",
        "   - Train a Multinomial Naive Bayes classifier on the scaled data.\n",
        "   - Generate a classification report to assess the model's performance across different outcome categories.\n",
        "\n",
        "#### Question:\n",
        "Based on the classification report for the Multinomial Naive Bayes model, which category has the highest recall, indicating the best performance in correctly identifying true positive cases?\n",
        "\n",
        "#### Options:\n",
        "A) Died\n",
        "\n",
        "B) Euthanized\n",
        "\n",
        "C) Lived\n",
        "\n",
        "D) All categories have nearly identical recall\n"
      ],
      "metadata": {
        "id": "UvfcsGFobjRZ"
      }
    },
    {
      "cell_type": "code",
      "source": [
        "from sklearn.naive_bayes import MultinomialNB  # TODO: Correctly import the Multinomial Naive Bayes classifier.\n",
        "from sklearn.preprocessing import MinMaxScaler  # TODO: Correctly import the MinMaxScaler for data normalization.\n",
        "from sklearn.metrics import classification_report, confusion_matrix # Import classification_report and confusion_matrix\n",
        "\n",
        "# Initialize MinMaxScaler\n",
        "scaler = MinMaxScaler()  # TODO: Instantiate the scaler.\n",
        "\n",
        "# Scale X_train and X_test\n",
        "X_train_scaled = scaler.fit_transform(X_train)  # TODO: Fit and Apply the scaler to train data.\n",
        "X_test_scaled = scaler.transform(X_test)  # TODO: Apply the scaler to test data.\n",
        "\n",
        "# Train Multinomial Naive Bayes classifier\n",
        "multinomial_nb = MultinomialNB()\n",
        "multinomial_nb.fit(X_train_scaled, y_train_encoded)  # TODO: Fit the Multinomial Naive Bayes model to the scaled training data.\n",
        "y_pred_multinomial = multinomial_nb.predict(X_test_scaled)  # TODO: Predict the test set results with the trained model.\n",
        "\n",
        "print(\"Multinomial Naive Bayes Classification Report:\")\n",
        "print(classification_report(y_test_encoded, y_pred_multinomial, target_names=['Died', 'Euthanized', 'Lived']))  # TODO: Provide the correct arguments to generate the classification report."
      ],
      "metadata": {
        "id": "cdenScZNbkF1",
        "colab": {
          "base_uri": "https://localhost:8080/",
          "height": 0
        },
        "outputId": "7855b79c-3445-449b-c982-5a75503432aa"
      },
      "execution_count": 40,
      "outputs": [
        {
          "output_type": "stream",
          "name": "stdout",
          "text": [
            "Multinomial Naive Bayes Classification Report:\n",
            "              precision    recall  f1-score   support\n",
            "\n",
            "        Died       0.67      0.56      0.61        89\n",
            "  Euthanized       0.62      0.57      0.59        42\n",
            "       Lived       0.62      0.72      0.67       116\n",
            "\n",
            "    accuracy                           0.64       247\n",
            "   macro avg       0.64      0.62      0.62       247\n",
            "weighted avg       0.64      0.64      0.63       247\n",
            "\n"
          ]
        }
      ]
    },
    {
      "cell_type": "markdown",
      "source": [
        "\n",
        "\n",
        "---\n",
        "\n",
        "### Optimizing Laplace Smoothing for Gaussian Naive Bayes Classifier\n",
        "\n",
        "#### Context:\n",
        "Laplace smoothing is a technique used to handle the issue of zero probability in Naive Bayes classifiers. While typically more relevant for discrete data in Multinomial and Bernoulli Naive Bayes, experimenting with this parameter in Gaussian Naive Bayes can provide insights into its effect on model robustness, particularly when handling datasets with sparse features or small sample sizes.\n",
        "\n",
        "#### Task:\n",
        "Determine the best Laplace smoothing parameter (alpha) for a Gaussian Naive Bayes classifier applied to the \"Predict Health Outcomes of Horses\" dataset. This involves tuning the alpha parameter to improve model performance, especially in handling data with potential zero-frequency issues.\n",
        "\n",
        "#### Instructions:\n",
        "1. **Setup Parameter Tuning:**\n",
        "   - Use a range of alpha values to determine which provides the best balance between bias and variance.\n",
        "   - Apply cross-validation to evaluate each model configuration under different alpha settings.\n",
        "\n",
        "2. **Evaluate Model Performance:**\n",
        "   - Measure the performance 'f1_weighted' of the Gaussian Naive Bayes classifier for each alpha setting.\n",
        "   - Identify the alpha value that results in the highest average performance across cross-validation folds.\n",
        "\n",
        "3. **Implement and Discuss Results:**\n",
        "   - Implement the model using the optimal alpha.\n",
        "   - Discuss how Laplace smoothing impacts the performance of a Gaussian Naive Bayes classifier.\n",
        "\n",
        "#### Question:\n",
        "After tuning the Laplace smoothing parameter for the Gaussian Naive Bayes model on the \"Predict Health Outcomes of Horses\" dataset, which alpha value resulted in the highest f1_weighted score?\n",
        "\n",
        "#### Options:\n",
        "A) Alpha = 0.0, Accuracy = 65%\n",
        "\n",
        "B) Alpha = 0.8, Accuracy = 64%\n",
        "\n",
        "C) Alpha = 0.5, Accuracy = 75%\n",
        "\n",
        "D) Alpha = 0.3, Accuracy = 53%\n"
      ],
      "metadata": {
        "id": "oQUs2htdVHFa"
      }
    },
    {
      "cell_type": "code",
      "source": [
        "from sklearn.model_selection import GridSearchCV  # TODO: Import the necessary class for optimizing hyperparameters.\n",
        "import numpy as np\n",
        "\n",
        "# Define a range of alpha values to test\n",
        "alpha_range = np.linspace(0.0, 1.0, 11)\n",
        "\n",
        "# Setup GridSearchCV to find the best alpha\n",
        "param_grid = {'var_smoothing': alpha_range}  # TODO: Specify the parameter name for Laplace smoothing in GaussianNB.\n",
        "gnb = GaussianNB()\n",
        "clf = GridSearchCV(gnb, param_grid, cv=5, scoring='f1_weighted')  # TODO: Fill in the GridSearchCV constructor with the correct model and parameters.\n",
        "clf.fit(X_train, y_train)  # TODO: Fit the GridSearchCV to the training data.\n",
        "\n",
        "# Best alpha and its score\n",
        "best_alpha = clf.best_params_['var_smoothing']  # TODO: Extract the best alpha value from clf.\n",
        "best_score = clf.best_score_  # TODO: Extract the best score from clf.\n",
        "print(f\"Best alpha: {best_alpha}\")\n",
        "print(f\"Best scoring f1_weighted: {best_score:.2f}\")"
      ],
      "metadata": {
        "id": "qIn5hPQWeWTh",
        "colab": {
          "base_uri": "https://localhost:8080/",
          "height": 0
        },
        "outputId": "616004af-aa45-4215-ba7f-2d99f7dd9140"
      },
      "execution_count": 41,
      "outputs": [
        {
          "output_type": "stream",
          "name": "stdout",
          "text": [
            "Best alpha: 0.8\n",
            "Best scoring f1_weighted: 0.64\n"
          ]
        }
      ]
    },
    {
      "cell_type": "markdown",
      "source": [
        "\n",
        "\n",
        "---\n",
        "\n",
        "### Match the Following attributes\n",
        "\n",
        "#### Context:\n",
        "Understanding how different Naive Bayes classifiers calculate feature importance is crucial for interpreting model outcomes and for feature selection. Each classifier type has specific methods or attributes that help in identifying the contribution of each feature towards making a prediction.\n",
        "\n",
        "#### Task:\n",
        "Match the following Naive Bayes models to the correct method or attribute used for determining feature importance, which provides insights such as $( P(x_i \\mid y) $) or the mean of each feature per class. Use the [scikit-learn documentation](https://scikit-learn.org/stable/modules/classes.html#module-sklearn.naive_bayes) to find the parameters that return these values.\n",
        "\n",
        "#### Instructions:\n",
        "1. **Research**: Look into the scikit-learn documentation for Naive Bayes classifiers to identify the specific attributes associated with each model.\n",
        "2. **Match**: Connect each model listed on the left with its corresponding method or attribute on the right that is used to determine feature importance.\n",
        "\n",
        "<!DOCTYPE html>\n",
        "<html lang=\"en\">\n",
        "<head>\n",
        "<meta charset=\"UTF-8\">\n",
        "<title>Match the Following Characteristics</title>\n",
        "<style>\n",
        "  .matching-table {\n",
        "    width: 100%;\n",
        "    border-collapse: collapse;\n",
        "  }\n",
        "  \n",
        "  .matching-table th,\n",
        "  .matching-table td {\n",
        "    border: 1px solid black;\n",
        "    padding: 5px;\n",
        "    text-align: left;\n",
        "  }\n",
        "  \n",
        "  .matching-table th {\n",
        "    background-color: #f2f2f2;\n",
        "  }\n",
        "</style>\n",
        "</head>\n",
        "<body>\n",
        "\n",
        "<table class=\"matching-table\">\n",
        "  <tr>\n",
        "    <th>Models</th>\n",
        "    <th>Characteristics</th>\n",
        "  </tr>\n",
        "  <tr>\n",
        "    <td>A. Gaussian Naive Bayes\n",
        "</td>\n",
        "    <td>I. feature_log_prob_</td>\n",
        "  </tr>\n",
        "  <tr>\n",
        "    <td>B. Multinomial Naive Bayes</td>\n",
        "    <td>II. feature_importances_</td>\n",
        "  </tr>  \n",
        "\t<tr>\n",
        "    <td>C. Bernoulli Naive Bayes</td>\n",
        "    <td>III. epsilon_</td>\n",
        "  </tr>\n",
        "  <tr>\n",
        "    <td></td>\n",
        "    <td>IV:  theta_</td>\n",
        "  </tr>\n",
        "</table>\n",
        "\n",
        "</body>\n",
        "</html>\n",
        "\n",
        "#### Options:\n",
        "- A) A-I, B-III, C-II\n",
        "\n",
        "- B) A-IV, B-I, C-I\n",
        "\n",
        "- C) A-IV, B-I, C-II\n",
        "\n",
        "- D) A-I, B-IV, C-I\n",
        "\n",
        "\n"
      ],
      "metadata": {
        "id": "hdq6J8w3lGGd"
      }
    },
    {
      "cell_type": "markdown",
      "source": [
        "**B) A-IV, B-I, C-I**"
      ],
      "metadata": {
        "id": "UHeVym0nZ5n-"
      }
    },
    {
      "cell_type": "markdown",
      "source": [
        "\n",
        "\n",
        "---\n",
        "\n",
        "### Evaluating Feature Importance in Gaussian Naive Bayes Model\n",
        "\n",
        "#### Context:\n",
        "Understanding which features most influence the predictions of a Gaussian Naive Bayes classifier can enhance interpretability and guide further model refinement. This model evaluates feature importance based on the mean values of features conditioned on each class, reflecting the significance of each feature in class discrimination.\n",
        "\n",
        "#### Task:\n",
        "Analyze feature importance in a Gaussian Naive Bayes model trained on a dataset, using the mean of each feature across classes to determine their impact on the model's predictions.\n",
        "\n",
        "#### Instructions:\n",
        "1. **Model Setup and Training:**\n",
        "   - Initialize the Gaussian Naive Bayes model with `var_smoothing` set to 0.3 to stabilize the calculation by adjusting the variance of each feature.\n",
        "   - Train the model using the training sets `X_train` and `y_train`.\n",
        "\n",
        "2. **Feature Importance Calculation:**\n",
        "   - Extract the mean of each feature for each class from the model. These means are critical as Gaussian Naive Bayes assumes features are normally distributed, and the mean of these distributions plays a significant role in class separation.\n",
        "   - Calculate the `absolute` values of these means to focus on the magnitude of feature values irrespective of their direction.\n",
        "\n",
        "3. **Summarize Feature Importance:**\n",
        "   - Aggregate these mean values across all classes to get a single importance score per feature.\n",
        "   - Rank these features based on their importance scores to identify the most influential features.\n",
        "\n",
        "4. **Visualization:**\n",
        "   - Plot these importance scores using a horizontal bar chart to visually compare the significance of each feature.\n",
        "\n",
        "\n",
        "#### Question:\n",
        "After implementing the above steps, which features were identified as the most important based on the mean absolute values of the class conditional distributions?\n",
        "\n",
        "#### Options:\n",
        "A) rectal_temp, age, peristalsis\n",
        "\n",
        "B) lesion_2, pain, cp_data\n",
        "\n",
        "C) nasogastric_reflux, nasogastric_tube, rectal_exam_feces\n",
        "\n",
        "D) total_protein, lesion_1, temp_category\n"
      ],
      "metadata": {
        "id": "0XdrIektahHz"
      }
    },
    {
      "cell_type": "code",
      "source": [
        "# Train the Gaussian Naive Bayes model\n",
        "model = GaussianNB(var_smoothing  = 0.3) # TODO: Set the smoothing parameter to 0.3.\n",
        "model.fit(X_train, y_train)\n",
        "\n",
        "# TODO: Use the appropriate numpy function to calculate the absolute values of the means\n",
        "feature_importances = np.mean(np.abs(model.theta_))   # TODO: Access the attribute that stores the class conditional means.\n",
        "\n",
        "# Create a DataFrame to view these importances\n",
        "importance_df = pd.DataFrame(feature_importances, columns=X.columns)\n",
        "\n",
        "# Summing the importances across classes to get an overall importance score for each feature\n",
        "importance_df.loc['Mean Importance'] = importance_df.mean(axis=0)  # TODO: Aggregate the means to get a single importance score per feature\n",
        "sorted_importance = importance_df.loc['Mean Importance'].sort_values(ascending=False)   # TODO: Sort the features based on importance\n",
        "\n",
        "print(\"Feature Importance based on absolute means of class conditional distributions:\")\n",
        "print(sorted_importance)\n",
        "\n",
        "# Optionally, visualize these importances\n",
        "import matplotlib.pyplot as plt\n",
        "sorted_importance.plot(kind='barh')\n",
        "plt.title('Feature Importance in Gaussian Naive Bayes')\n",
        "plt.ylabel('Features')\n",
        "plt.xlabel('Importance (mean absolute values across classes)')\n",
        "plt.show()"
      ],
      "metadata": {
        "id": "C60BjqugCnIX"
      },
      "execution_count": null,
      "outputs": []
    },
    {
      "cell_type": "code",
      "source": [
        "import pandas as pd\n",
        "import numpy as np\n",
        "import matplotlib.pyplot as plt\n",
        "from sklearn.naive_bayes import GaussianNB\n",
        "\n",
        "# Train the Gaussian Naive Bayes model\n",
        "# Use the best var_smoothing found in the previous step if available, otherwise use 0.3 as specified in the markdown\n",
        "model = GaussianNB(var_smoothing=0.3)\n",
        "model.fit(X_train, y_train_encoded) # Fit with encoded y_train\n",
        "\n",
        "# Calculate the absolute values of the class conditional means\n",
        "# The class conditional means are stored in the theta_ attribute\n",
        "abs_means = np.abs(model.theta_)\n",
        "\n",
        "# Calculate the mean of the absolute values across classes for each feature\n",
        "# axis=0 calculates the mean down the columns (across the classes)\n",
        "feature_importances = np.mean(abs_means, axis=0)\n",
        "\n",
        "# Create a DataFrame to view these importances\n",
        "# The columns of this DataFrame should correspond to the feature names before transformation\n",
        "importance_df = pd.DataFrame({'Feature': X.columns, 'Importance': feature_importances})\n",
        "\n",
        "\n",
        "# Sort the features based on importance\n",
        "sorted_importance = importance_df.sort_values(by='Importance', ascending=False)\n",
        "\n",
        "print(\"Feature Importance based on absolute means of class conditional distributions:\")\n",
        "print(sorted_importance)\n",
        "\n",
        "# Optionally, visualize these importances\n",
        "\n",
        "sorted_importance.plot(kind='barh', x='Feature', y='Importance', legend=False)\n",
        "plt.title('Feature Importance in Gaussian Naive Bayes')\n",
        "plt.ylabel('Features')\n",
        "plt.xlabel('Importance (mean absolute values across classes)')\n",
        "plt.gca().invert_yaxis() # Invert y-axis to show most important features at the top\n",
        "plt.show()"
      ],
      "metadata": {
        "colab": {
          "base_uri": "https://localhost:8080/",
          "height": 998
        },
        "id": "Sz6ng4TzcJs_",
        "outputId": "fc9be71a-3b58-49a7-f0cd-ecf404188991"
      },
      "execution_count": 43,
      "outputs": [
        {
          "output_type": "stream",
          "name": "stdout",
          "text": [
            "Feature Importance based on absolute means of class conditional distributions:\n",
            "                  Feature  Importance\n",
            "14     nasogastric_reflux    3.093584\n",
            "13       nasogastric_tube    2.627840\n",
            "16      rectal_exam_feces    2.094395\n",
            "17                abdomen    1.809921\n",
            "19          total_protein    1.424576\n",
            "23               lesion_1    1.359208\n",
            "15  nasogastric_reflux_ph    1.353643\n",
            "26          temp_category    1.339915\n",
            "12   abdominal_distention    1.192330\n",
            "18     packed_cell_volume    1.148624\n",
            "20      abdomo_appearance    1.042088\n",
            "22        surgical_lesion    0.939177\n",
            "21         abdomo_protein    0.811958\n",
            "24               lesion_2    0.756599\n",
            "10                   pain    0.716326\n",
            "25                cp_data    0.496992\n",
            "6     temp_of_extremities    0.440712\n",
            "2         hospital_number    0.333712\n",
            "4                   pulse    0.332115\n",
            "5        respiratory_rate    0.291780\n",
            "7        peripheral_pulse    0.215117\n",
            "0                 surgery    0.153676\n",
            "3             rectal_temp    0.151303\n",
            "11            peristalsis    0.055472\n",
            "9   capillary_refill_time    0.047601\n",
            "8         mucous_membrane    0.030234\n",
            "1                     age    0.028012\n"
          ]
        },
        {
          "output_type": "display_data",
          "data": {
            "text/plain": [
              "<Figure size 640x480 with 1 Axes>"
            ],
            "image/png": "[encoded data removed]"
          },
          "metadata": {}
        }
      ]
    },
    {
      "cell_type": "code",
      "source": [],
      "metadata": {
        "id": "KYWxPdhTmX-p"
      },
      "execution_count": null,
      "outputs": []
    }
  ]
}